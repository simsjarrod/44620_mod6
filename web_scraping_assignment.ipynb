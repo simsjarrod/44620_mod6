{
 "cells": [
  {
   "cell_type": "markdown",
   "metadata": {},
   "source": [
    "# Web Mining and Applied NLP (44-620)\n",
    "\n",
    "## Web Scraping and NLP with Requests, BeautifulSoup, and spaCy\n",
    "\n",
    "### Student Name: Jarrod Sims\n",
    "\n",
    "### GitHub Repo: https://github.com/simsjarrod/44620_mod6\n",
    "\n",
    "Perform the tasks described in the Markdown cells below.  When you have completed the assignment make sure your code cells have all been run (and have output beneath them) and ensure you have committed and pushed ALL of your changes to your assignment repository.\n",
    "\n",
    "Every question that requires you to write code will have a code cell underneath it; you may either write your entire solution in that cell or write it in a python file (`.py`), then import and run the appropriate code to answer the question."
   ]
  },
  {
   "cell_type": "markdown",
   "metadata": {},
   "source": [
    "### Question 1\n",
    "Write code that extracts the article html from https://web.archive.org/web/20210327165005/https://hackaday.com/2021/03/22/how-laser-headlights-work/ and dumps it to a .pkl (or other appropriate file)"
   ]
  },
  {
   "cell_type": "code",
   "execution_count": 171,
   "metadata": {},
   "outputs": [
    {
     "name": "stdout",
     "output_type": "stream",
     "text": [
      "Article printed to pickle\n"
     ]
    }
   ],
   "source": [
    "import requests\n",
    "import pickle\n",
    "import spacy\n",
    "from bs4 import BeautifulSoup\n",
    "parser = 'html.parser'\n",
    "\n",
    "article_page = requests.get('https://web.archive.org/web/20210327165005/https://hackaday.com/2021/03/22/how-laser-headlights-work/')\n",
    "html_content = article_page.text\n",
    "soup = BeautifulSoup(html_content, \"html.parser\")\n",
    "article = soup.find(\"article\")\n",
    "\n",
    "with open (\"article_element.pkl\", \"wb\") as file:\n",
    "    pickle.dump(str(article),file)\n",
    "    print('Article printed to pickle')\n",
    "\n"
   ]
  },
  {
   "cell_type": "markdown",
   "metadata": {},
   "source": [
    "### Question 2\n",
    "Read in your article's html source from the file you created in question 1 and print it's text (use `.get_text()`)"
   ]
  },
  {
   "cell_type": "code",
   "execution_count": 172,
   "metadata": {},
   "outputs": [
    {
     "name": "stdout",
     "output_type": "stream",
     "text": [
      "How Laser Headlights Work\n",
      "130 Comments\n",
      "by:\n",
      "Lewin Day\n",
      "March 22, 2021\n",
      "When we think about the onward march of automotive technology, headlights aren’t usually the first thing that come to mind. Engines, fuel efficiency, and the switch to electric power are all more front of mind. However, that doesn’t mean there aren’t thousands of engineers around the world working to improve the state of the art in automotive lighting day in, day out.\n",
      "Sealed beam headlights gave way to more modern designs once regulations loosened up, while bulbs moved from simple halogens to xenon HIDs and, more recently, LEDs. Now, a new technology is on the scene, with lasers!\n",
      "Laser Headlights?!\n",
      "BWM’s prototype laser headlight assemblies undergoing testing.\n",
      "The first image brought to mind by the phrase “laser headlights” is that of laser beams firing out the front of an automobile. Obviously, coherent beams of monochromatic light would make for poor illumination outside of a very specific spot quite some distance away. Thankfully for our eyes, laser headlights don’t work in this way at all.\n",
      "Instead, laser headlights consist of one or more solid state laser diodes mounted inside the headlight. These blue lasers are fired at a yellow phosphor, similar to that used in white LEDs. This produces a powerful, vibrant white light that can then be bounced off reflectors and out of the headlights towards the road. Laser headlights built in this way have several benefits. They’re more energy efficient than LEDs that put out the same amount of light, while also being more space efficient, too.\n",
      "BWM’s futuristic i8 was one of the first vehicles to ship with laser headlight technology.\n",
      "Laser headlights are still a nascent technology, thus far only appearing in a few BMW, Audi, and other select vehicles. BMW’s technology was developed in partnership with lighting experts OSRAM. In practice, a regular LED low-beam lamp is used, with the laser used to create an incredibly bright and focused spot, used for high-beams. This can provide illumination out to 600 meters ahead of the vehicle, double that of conventional LED high beams. The lights use indium gallium nitride diode lasers that were originally used in projectors, with power levels above 1 watt. One of the challenges in implementing such technology in an automotive environment is the need for it to operate at temperature extremes. While research lasers and laser pointers may primarily be used at typical room temperatures, automotive headlights must be able to withstand everything from 40 degrees below zero up to 50 degrees C. Thankfully, the laser’s high efficiency means it doesn’t have huge heat output of its own to further complicate things. Other engineering challenges involve tailoring the optics package for the rough-and-tumble, high vibration environment found in the automotive application. It’s also important to ensure, as with any such device, that the end user can’t be exposed to harmful laser radiation in the event of accident or malfunction.\n",
      "Tearing Down the Laser Headlight\n",
      "A marketing image showing the construction of an aftermarket LED/laser headlight. We’d take the laser power with a grain of salt — it’s difficult to imagine a 10 W laser shining directly on some small LEDs without melting a hole through the board in short order.\n",
      "An aftermarket has sprung up too, with delightfully innovative designs. Combined laser/LED headlights are readily available on Alibaba, designed as a drop in replacement for projector lamps on existing vehicles. These often use an LED low-beam, and a combined LED/laser high beam, where the laser diode shoots directly at the LED phosphor to excite it further, rather than using its own. These units often also come with fan cooling to keep the laser and LEDs below their maximum operational temperature. Such developments are exciting, though it’s important to be wary of the performance of unknown aftermarket headlights. Many aftermarket LED headlight “upgrades” fail to pass muster when it comes to real-world performance, and there’s no reason to believe hybrid LED/laser designs will be any different. We’d love to pass a selection of these parts through a full IIHS test protocol, but that’s sadly beyond the scope (and budget!) of this article.\n",
      "However, [mikeselectricstuff] has happened to lay his hands on both the BMW and aftermarket parts, tearing them all down in his workshop to see what makes them tick. The differences are multitude when laid bare on the bench. The AliExpress part is relatively simple, wired up no differently from a regular headlight. Interestingly, however, the laser high-beam circuit runs all the time in these parts. To prevent blinding other road users, a shutter is kept in place to block the light, which is moved out of the way with a solenoid when the driver turns on the high beam switch.\n",
      "Where the aftermarket part is a little out of left field, the BMW design is another thing entirely. The cutting-edge headlights are hooked up with multiple connectors and over 30 conductors, with much of the driver electronics living in an external controller. Much of this is to drive the various LEDs and stepper motors for slewing the headlights when steering. However, the laser assembly brings its own complexities. Twin light sensors are built inside to monitor the laser beam, and a special metal blocking arm sits directly in front of the diode, presumably to stop the laser light leaving the headlight in the event the phosphor coating burns through. It’s truly wild to get a look inside a modern luxury car’s headlight and see just how far we’ve come from the old days of simple sealed beams.\n",
      "Cost Versus Performance\n",
      "Despite the efficiency gains available, the technology remains expensive. Powerful laser diodes don’t come cheap, after all. However, as the technology trickles down to lower-end models, it’s likely that we could see economies of scale change that for the better. Indeed, if national authorities begin to demand higher performance headlights as standard, we could see laser headlights become the norm, rather than an expensive luxury. The technology could naturally be applied to home and commercial lighting, too — though we suspect the potential gains are limited enough that LED lighting will remain the norm for some time to come.\n",
      "The high light output of laser headlights in a compact package allows engineers greater freedom when designing the front-end of a car.\n",
      "As it currently stands, much of the appeal of the new technology is about the packaging benefits, which allow automotive designers greater freedom around the headlight area. Such concerns are less of a factor when it comes to light fittings in the home or office, or indeed, on lower-end automobiles. Regardless, it’s an exciting new application for lasers and one we’ll be sure to see more of in the future.\n",
      "Posted in car hacks, Engineering, Featured, Laser Hacks, SliderTagged laser, laser headlight, laser headlights, light\n"
     ]
    }
   ],
   "source": [
    "with open(\"article_element.pkl\", \"rb\") as file:\n",
    "    html_text = pickle.load(file)\n",
    "\n",
    "soup = BeautifulSoup(html_text, \"html.parser\")\n",
    "text = soup.get_text()\n",
    "\n",
    "\n",
    "def remove_empty_lines(text):\n",
    "    lines = text.split(\"\\n\")\n",
    "    non_empty_lines = [line.strip() for line in lines if line.strip()]\n",
    "    return \"\\n\".join(non_empty_lines)\n",
    "\n",
    "cleaned_text = remove_empty_lines(text)\n",
    "print(cleaned_text)"
   ]
  },
  {
   "cell_type": "markdown",
   "metadata": {},
   "source": [
    "### Question 3\n",
    "Load the article text into a trained `spaCy` pipeline, and determine the 5 most frequent tokens (converted to lower case).  Print the common tokens with an appropriate label.  Additionally, print the tokens their frequencies (with appropriate labels). Make sure to remove things we don't care about (punctuation, stopwords, whitespace)."
   ]
  },
  {
   "cell_type": "code",
   "execution_count": 193,
   "metadata": {},
   "outputs": [
    {
     "name": "stdout",
     "output_type": "stream",
     "text": [
      "The most common words are: [('laser', 29), ('headlights', 17), ('technology', 10), ('headlight', 10), ('LED', 10)]\n"
     ]
    }
   ],
   "source": [
    "import spacy \n",
    "\n",
    "nlp = spacy.load('en_core_web_sm')\n",
    "doc = nlp(cleaned_text)\n",
    "\n",
    "non_ws_tokens = []\n",
    "for token in doc:\n",
    "    if not token.is_space:\n",
    "        non_ws_tokens.append(token)\n",
    "#print(non_ws_tokens)\n",
    "\n",
    "def we_care_about(token):\n",
    "    return not (token.is_space or token.is_punct)\n",
    "\n",
    "from collections import Counter\n",
    "def we_care_about(token):\n",
    "    return not (token.is_space or token.is_punct or token.is_stop)\n",
    "\n",
    "interesting_tokens = [token for token in doc if we_care_about(token)]\n",
    "word_freq = Counter(map(str,interesting_tokens))\n",
    "print(f\"The most common words are: {word_freq.most_common(5)}\")"
   ]
  },
  {
   "cell_type": "markdown",
   "metadata": {},
   "source": [
    "### Question 4\n",
    "Load the article text into a trained `spaCy` pipeline, and determine the 5 most frequent lemmas (converted to lower case).  Print the common lemmas with an appropriate label.  Additionally, print the lemmas with their frequencies (with appropriate labels). Make sure to remove things we don't care about (punctuation, stopwords, whitespace)."
   ]
  },
  {
   "cell_type": "code",
   "execution_count": 174,
   "metadata": {},
   "outputs": [
    {
     "name": "stdout",
     "output_type": "stream",
     "text": [
      "Five Most Common Words:\n",
      "-----------------\n",
      "laser: 35\n",
      "headlight: 27\n",
      "beam: 12\n",
      "technology: 10\n",
      "light: 10\n"
     ]
    }
   ],
   "source": [
    "interesting_lemmas = [token.lemma_ for token in doc if we_care_about(token)]\n",
    "lemma_freq = Counter(interesting_lemmas)\n",
    "\n",
    "def print_word_frequencies(common_words):\n",
    "    print(\"Five Most Common Words:\")\n",
    "    print(\"-----------------\")\n",
    "    for word, frequency in common_words:\n",
    "        print(f\"{word}: {frequency}\")\n",
    "\n",
    "common_words = lemma_freq.most_common(5)\n",
    "\n",
    "print_word_frequencies(common_words)\n"
   ]
  },
  {
   "cell_type": "markdown",
   "metadata": {},
   "source": [
    "### Question 5\n",
    "Define the following methods:\n",
    "    * `score_sentence_by_token(sentence, interesting_token)` that takes a sentence and a list of interesting token and returns the number of times that any of the interesting words appear in the sentence divided by the number of words in the sentence\n",
    "    * `score_sentence_by_lemma(sentence, interesting_lemmas)` that takes a sentence and a list of interesting lemmas and returns the number of times that any of the interesting lemmas appear in the sentence divided by the number of words in the sentence\n",
    "    \n",
    "You may find some of the code from the in class notes useful; feel free to use methods (rewrite them in this cell as well).  Test them by showing the score of the first sentence in your article using the frequent tokens and frequent lemmas identified in question 3."
   ]
  },
  {
   "cell_type": "code",
   "execution_count": 175,
   "metadata": {},
   "outputs": [
    {
     "name": "stdout",
     "output_type": "stream",
     "text": [
      "Interesting token score equals 0.2\n",
      "Interesting lemma score equals 0.2\n"
     ]
    }
   ],
   "source": [
    "import spacy\n",
    "import string\n",
    "from collections import Counter\n",
    "\n",
    "sentence = \"When we think about the onward march of automotive technology, headlights aren't usually the first thing that come to mind.\"\n",
    "\n",
    "def remove_stopwords_and_punctuations(tokens):\n",
    "    return [token.lemma_.lower() for token in tokens if not token.is_stop and token.is_alpha]\n",
    "\n",
    "def score_sentence_by_token(sentence, interesting_tokens):\n",
    "    nlp = spacy.load(\"en_core_web_sm\")\n",
    "    doc = nlp(sentence)\n",
    "    clean_tokens = remove_stopwords_and_punctuations(doc)\n",
    "    interesting_token_count = sum(1 for token in clean_tokens if token in interesting_tokens)\n",
    "    score = interesting_token_count / len(clean_tokens)\n",
    "    return score\n",
    "    \n",
    "def score_sentence_by_lemma(sentence, interesting_lemmas):\n",
    "    nlp = spacy.load(\"en_core_web_sm\")\n",
    "    doc = nlp(sentence)\n",
    "    clean_lemmas = remove_stopwords_and_punctuations(doc)\n",
    "    interesting_lemma_count = sum(1 for lemma in clean_lemmas if lemma in interesting_lemmas)\n",
    "    score = interesting_lemma_count / len(clean_lemmas)\n",
    "    return score\n",
    "\n",
    "common_tokens = ['laser','headlight','beam','technology','light']\n",
    "common_lemmas = ['laser','headlight','beam','technology','Light']\n",
    "\n",
    "print(f\"Interesting token score equals {score_sentence_by_token(sentence, common_tokens)}\")\n",
    "print(f\"Interesting lemma score equals {score_sentence_by_lemma(sentence, common_lemmas)}\")\n"
   ]
  },
  {
   "cell_type": "markdown",
   "metadata": {},
   "source": [
    "### Question 6\n",
    "Make a list containing the scores (using tokens) of every sentence in the article, and plot a histogram with appropriate titles and axis labels of the scores. From your histogram, what seems to be the most common range of scores (put the answer in a comment after your code)?"
   ]
  },
  {
   "cell_type": "code",
   "execution_count": 184,
   "metadata": {},
   "outputs": [
    {
     "data": {
      "image/png": "[encoded data removed]",
      "text/plain": [
       "<Figure size 640x480 with 1 Axes>"
      ]
     },
     "metadata": {},
     "output_type": "display_data"
    }
   ],
   "source": [
    "import spacy\n",
    "import pickle\n",
    "import matplotlib.pyplot as plt\n",
    "\n",
    "def extract_sentences(text):\n",
    "    nlp = spacy.load('en_core_web_sm')\n",
    "    doc = nlp(text)\n",
    "    sentences = [sent.text for sent in doc.sents]\n",
    "\n",
    "    return sentences\n",
    "\n",
    "with open(\"article_element.pkl\", \"rb\") as f:\n",
    "    article_html = pickle.load(f)\n",
    "\n",
    "article_element = soup.find('article')\n",
    "\n",
    "article_text = article_element.get_text()\n",
    "sentences = extract_sentences(article_text)\n",
    "scores_by_tokens = []\n",
    "interesting_tokens = ['laser','headlight','beam','technology','Light']\n",
    "       \n",
    "for sentence in sentences:\n",
    "    score = score_sentence_by_token(sentence, interesting_tokens)\n",
    "    scores_by_tokens.append(score)\n",
    "\n",
    "plt.hist(scores_by_tokens, bins=10, edgecolor='black')\n",
    "plt.xlabel(\"Token Score\")\n",
    "plt.ylabel(\"Frequencey\")\n",
    "plt.title(\"Distribution of Token Scores\")\n",
    "plt.show()\n",
    "\n",
    "#The majority of the scores for the sentences range from 0.00 to 0.15."
   ]
  },
  {
   "cell_type": "markdown",
   "metadata": {},
   "source": [
    "The majority of the scores for the sentences range from 0.00 to 0.15."
   ]
  },
  {
   "cell_type": "markdown",
   "metadata": {},
   "source": [
    "### Question 7\n",
    "Make a list containing the scores (using lemmas) of every sentence in the article, and plot a histogram with appropriate titles and axis labels of the scores.  From your histogram, what seems to be the most common range of scores (put the answer in a comment after your code)?"
   ]
  },
  {
   "cell_type": "code",
   "execution_count": 186,
   "metadata": {},
   "outputs": [
    {
     "data": {
      "image/png": "[encoded data removed]",
      "text/plain": [
       "<Figure size 640x480 with 1 Axes>"
      ]
     },
     "metadata": {},
     "output_type": "display_data"
    }
   ],
   "source": [
    "import spacy\n",
    "import pickle\n",
    "import matplotlib.pyplot as plt\n",
    "\n",
    "def extract_sentences(text):\n",
    "    nlp = spacy.load('en_core_web_sm')\n",
    "    doc = nlp(text)\n",
    "    sentences = [sent.text for sent in doc.sents]\n",
    "\n",
    "    return sentences\n",
    "\n",
    "with open(\"article_element.pkl\", \"rb\") as f:\n",
    "    article_html = pickle.load(f)\n",
    "\n",
    "article_element = soup.find('article')\n",
    "\n",
    "article_text = article_element.get_text()\n",
    "sentences = extract_sentences(article_text)\n",
    "scores_by_lemmas = []\n",
    "interesting_lemmas = ['laser','headlight','beam','technology','Light']\n",
    "       \n",
    "for sentence in sentences:\n",
    "    score = score_sentence_by_lemma(sentence, interesting_lemmas)\n",
    "    scores_by_lemmas.append(score)\n",
    "\n",
    "plt.hist(scores_by_tokens, color=\"red\", bins=10, edgecolor='black')\n",
    "plt.xlabel(\"Lemma Score\")\n",
    "plt.ylabel(\"Frequencey\")\n",
    "plt.title(\"Distribution of Lemma Scores\")\n",
    "plt.show()\n",
    "\n",
    "#The majority of the scores for the sentences range from 0.00 to 0.15.\n"
   ]
  },
  {
   "cell_type": "markdown",
   "metadata": {},
   "source": [
    "The majority of the scores for the sentences range from 0.00 to 0.15."
   ]
  },
  {
   "cell_type": "markdown",
   "metadata": {},
   "source": [
    "### Question 8\n",
    "Which tokens and lexems would be ommitted from the lists generated in questions 3 and 4 if we only wanted to consider nouns as interesting words?  How might we change the code to only consider nouns? Put your answer in this Markdown cell (you can edit it by double clicking it).\n",
    "\n",
    "### Using Spacy, the pos property of the token can be used to filter for parts of speech like nouns.\n"
   ]
  },
  {
   "cell_type": "code",
   "execution_count": 197,
   "metadata": {},
   "outputs": [
    {
     "name": "stdout",
     "output_type": "stream",
     "text": [
      "The most common nouns are: [('laser', 29), ('headlights', 17), ('technology', 10), ('beam', 7), ('LEDs', 6)]\n"
     ]
    }
   ],
   "source": [
    "import spacy \n",
    "\n",
    "nlp = spacy.load('en_core_web_sm')\n",
    "doc = nlp(cleaned_text)\n",
    "\n",
    "non_ws_tokens = []\n",
    "for token in doc:\n",
    "    if not token.is_space:\n",
    "        non_ws_tokens.append(token)\n",
    "#print(non_ws_tokens)\n",
    "\n",
    "def we_care_about(token):\n",
    "    return not (token.is_space or token.is_punct)\n",
    "\n",
    "interesting_tokens = [token for token in doc if we_care_about(token)]\n",
    "interesting_nouns = [token for token in interesting_tokens if token.pos_ == \"NOUN\"]\n",
    "#print(interesting_tokens)\n",
    "\n",
    "from collections import Counter\n",
    "def we_care_about(token):\n",
    "    return not (token.is_space or token.is_punct or token.is_stop)\n",
    "\n",
    "word_freq = Counter(map(str,interesting_nouns))\n",
    "print(f\"The most common nouns are: {word_freq.most_common(5)}\")"
   ]
  },
  {
   "cell_type": "code",
   "execution_count": null,
   "metadata": {},
   "outputs": [],
   "source": []
  }
 ],
 "metadata": {
  "kernelspec": {
   "display_name": "Python 3",
   "language": "python",
   "name": "python3"
  },
  "language_info": {
   "codemirror_mode": {
    "name": "ipython",
    "version": 3
   },
   "file_extension": ".py",
   "mimetype": "text/x-python",
   "name": "python",
   "nbconvert_exporter": "python",
   "pygments_lexer": "ipython3",
   "version": "3.10.9"
  }
 },
 "nbformat": 4,
 "nbformat_minor": 4
}
